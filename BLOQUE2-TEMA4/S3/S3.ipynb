{
 "cells": [
  {
   "cell_type": "markdown",
   "metadata": {},
   "source": [
    "# Laboratorio de Habla 3: Construcción de un Vocoder\n",
    "\n",
    "## Objetivos de Aprendizaje\n",
    "1. Manipular y visualizar señales de voz en Julia.\n",
    "2. Realizar un análisis LPC de la señal de voz en Julia.\n",
    "3. Reconstruir señales usando filtros de reconstrucción.\n",
    "\n",
    "## Consejos para la Solución\n",
    "- Utiliza las convenciones de Julia para escribir código.\n",
    "- Copia el texto de los enunciados como parte (comentada) de un fichero de Julia para ejecutarlo.\n",
    "\n",
    "## Introducción: la Vocodificación LPC\n",
    "...\n",
    "\n",
    "## Ejercicio 1: Análisis Exploratorio de la Señal\n",
    "### Objetivo\n",
    "Determinar si la señal puede ser sujeta a codificación LPC efectiva.\n",
    "### Contenido\n"
   ]
  },
  {
   "cell_type": "markdown",
   "metadata": {},
   "source": [
    "1. Lea y reproduzca la señal de voz proporcionada.\n"
   ]
  },
  {
   "cell_type": "markdown",
   "metadata": {},
   "source": [
    "2. Represente el sonido en el dominio del tiempo.\n"
   ]
  },
  {
   "cell_type": "markdown",
   "metadata": {},
   "source": [
    "3. Represente la energía localizada y la tasa de cruces por cero como función del tiempo, entramando la señal con diferentes tamaños de ventana y usando las primitivas desarrolladas en la práctica 2.\n"
   ]
  },
  {
   "cell_type": "markdown",
   "metadata": {},
   "source": [
    "\n",
    "## Ejercicio 2: Análisis de una trama\n",
    "### Objetivo\n",
    "Desarrollar el código de análisis-síntesis.\n",
    "### Contenido\n"
   ]
  },
  {
   "cell_type": "code",
   "execution_count": null,
   "metadata": {},
   "outputs": [],
   "source": [
    "# imports\n",
    "# using Pkg\n",
    "# Pkg.add(\"StatsBase\")\n",
    "using DSP\n",
    "using FFTW\n",
    "using WAV\n",
    "using Plots\n",
    "using ToeplitzMatrices\n",
    "using StatsBase\n",
    "using LinearAlgebra\n",
    "\n",
    "plotlyjs()"
   ]
  },
  {
   "cell_type": "markdown",
   "metadata": {},
   "source": [
    "\n",
    "1. Seleccione y visualice en el tiempo y la frecuencia una trama sonora de la señal.\n"
   ]
  },
  {
   "cell_type": "code",
   "execution_count": null,
   "metadata": {},
   "outputs": [],
   "source": [
    "confront, fs = wavread(\"./confront.wav\")\n",
    "\n",
    "d = (length(confront)-1)*(1/fs)\n",
    "t = 0:1/fs:d\n",
    "\n",
    "p1 = plot(t, confront, title=\"Signal (time)\")\n",
    "\n",
    "# calculate signal frecuency\n",
    "contfront_fft = fftshift(fft(confront))\n",
    "contfront_fft_module = abs.(contfront_fft)\n",
    "frequencies = fftshift(fftfreq(length(t), fs))\n",
    "\n",
    "p2 = plot(abs.(frequencies), contfront_fft_module, title=\"Signal (Frec)\", xlabel=\"Frecuencies (Hz)\", ylabel=\"|FFT|\")\n",
    "\n",
    "plot(p1, p2, layout=(2,1))\n"
   ]
  },
  {
   "cell_type": "markdown",
   "metadata": {},
   "source": [
    "Visualmente, vemos una trama sonora por ejemplo desde el segundo 0.5 hasta el 0.7 aproximadamente, vamos a comprobarlo entramando la señal."
   ]
  },
  {
   "cell_type": "code",
   "execution_count": null,
   "metadata": {},
   "outputs": [],
   "source": [
    "# \n",
    "trama = confront[5800:6200]\n",
    "\n",
    "d = (length(trama)-1)*(1/fs)\n",
    "t = 0:1/fs:d\n",
    "\n",
    "p1 = plot(t, trama, title=\"Signal (time)\")\n",
    "\n",
    "# calculate signal frecuency\n",
    "trama_fft = fftshift(fft(trama))\n",
    "trama_fft_module = abs.(trama_fft)\n",
    "frequencies = fftshift(fftfreq(length(t), fs))\n",
    "\n",
    "p2 = plot(abs.(frequencies), trama_fft_module, title=\"Signal (Frec)\", xlabel=\"Frecuencies (Hz)\", ylabel=\"|FFT|\")\n",
    "\n",
    "plot(p1, p2, layout=(2,1))"
   ]
  },
  {
   "cell_type": "markdown",
   "metadata": {},
   "source": [
    "2. Obtenga la función de autocorrelación de la trama usando una función xcorr que reciba una trama y un orden y obtenga el vector de autocorrelación de ese orden.\n"
   ]
  },
  {
   "cell_type": "code",
   "execution_count": null,
   "metadata": {},
   "outputs": [],
   "source": [
    "function autocorrelacion_trama(trama, orden)\n",
    "\n",
    "  autocorrelacion = xcorr(trama, trama)\n",
    "\n",
    "  orden = min(orden, length(autocorrelacion) - 1)\n",
    "\n",
    "  autocorrelacion_orden_especifico = autocorrelacion[length(trama) + 1 : length(trama) + orden + 1]\n",
    "\n",
    "  return autocorrelacion, autocorrelacion_orden_especifico\n",
    "end\n",
    "\n",
    "trama = confront[5800:6200]     # trama sonora\n",
    "\n",
    "order = 200\n",
    "autocorrelacion, acorr_order = autocorrelacion_trama(trama, order)\n",
    "\n",
    "p1 = plot(autocorrelacion, title=\"Autocorrelation\")\n",
    "p2 = plot(acorr_order, title=\"Autocorrelation order $order\")\n",
    "\n",
    "plot(p1, p2, layout=(2,1))"
   ]
  },
  {
   "cell_type": "markdown",
   "metadata": {},
   "source": [
    "3. Genere la matriz R usando la biblioteca ToeplitzMatrices.jl\n"
   ]
  },
  {
   "cell_type": "code",
   "execution_count": null,
   "metadata": {},
   "outputs": [],
   "source": [
    "function generar_matriz_R(trama, orden)\n",
    "  # Calcula la autocorrelación de la trama hasta el orden deseado\n",
    "  autocorrelacion, autocorrelacion_orden = autocorrelacion_trama(trama, orden)\n",
    "  \n",
    "  # Genera la matriz toeplitz a partir del vector de autocorrelación\n",
    "  matriz_R = Toeplitz(autocorrelacion_orden, autocorrelacion_orden)\n",
    "  return matriz_R\n",
    "end\n",
    "\n",
    "trama = confront[5800:6200]\n",
    "orden_autocorrelacion = 10\n",
    "\n",
    "matriz_R = generar_matriz_R(trama, orden_autocorrelacion)\n",
    "\n",
    "# show matrix\n",
    "show(IOContext(stdout, :limit=>false), MIME\"text/plain\"(), matriz_R)"
   ]
  },
  {
   "cell_type": "markdown",
   "metadata": {},
   "source": [
    "4. Obtenga los coeficientes de predicción lineal usando el sistema anterior.\n"
   ]
  },
  {
   "cell_type": "code",
   "execution_count": null,
   "metadata": {},
   "outputs": [],
   "source": [
    "function calcular_coeficientes(trama, orden)\n",
    "\n",
    "  autocorrelacion, autocorrelacion_orden = autocorrelacion_trama(trama, orden)\n",
    "  \n",
    "  R = generar_matriz_R(trama, orden)\n",
    "  \n",
    "  # show(IOContext(stdout, :limit=>false), MIME\"text/plain\"(), R)\n",
    "  ak = R' \\ autocorrelacion_orden\n",
    "  \n",
    "  return ak\n",
    "end\n",
    "\n",
    "trama = confront[5800:6200]\n",
    "orden_autocorrelacion = 10\n",
    "\n",
    "ak = calcular_coeficientes(trama, orden_autocorrelacion)\n",
    "\n",
    "print(ak)"
   ]
  },
  {
   "cell_type": "code",
   "execution_count": null,
   "metadata": {},
   "outputs": [],
   "source": [
    "# coeficientes ak a partir de la funcion lpc de DSP.jl\n",
    "\n",
    "trama = confront[5800:6200]\n",
    "orden = 100\n",
    "\n",
    "aks, prediction_err = lpc(trama, orden, LPCLevinson())\n",
    "print(prediction_err)\n",
    "plot(aks)"
   ]
  },
  {
   "cell_type": "markdown",
   "metadata": {},
   "source": [
    "\n",
    "## Ejercicio 3: Síntesis de una trama\n",
    "### Objetivo\n",
    "Depurar el código de análisis-síntesis.\n",
    "### Contenido\n"
   ]
  },
  {
   "cell_type": "markdown",
   "metadata": {},
   "source": [
    "\n",
    "1. Obtenga, para la trama dada, el error de predicción como una señal, filtrando la trama a través del filtro FIR inverso.\n"
   ]
  },
  {
   "cell_type": "code",
   "execution_count": null,
   "metadata": {},
   "outputs": [],
   "source": [
    "fil = remez(371, [0, 34, 35, 45, 46, 50], [0, 1, 0], Hz=100, maxiter=100)\n",
    "\n",
    "plot(fil)"
   ]
  },
  {
   "cell_type": "code",
   "execution_count": null,
   "metadata": {},
   "outputs": [],
   "source": [
    "\n",
    "function coeficientes_prediccion_lineal(sw, orden)\n",
    "  r = crosscov(sw, sw)\n",
    "  R = Toeplitz(r[1:orden],  r[1:orden])\n",
    "  a = R \\ r[2:orden+1]\n",
    "  return a\n",
    "end\n",
    "\n",
    "function error_prediccion(sw, orden)\n",
    "  # Obtén los coeficientes de predicción lineal\n",
    "  a = coeficientes_prediccion_lineal(sw, orden)\n",
    "  \n",
    "  # Filtro FIR inverso\n",
    "  b = [1.0, -a']  # Los coeficientes son [1, -a[1], -a[2], ..., -a[p]]\n",
    "  \n",
    "  # Filtra la trama original\n",
    "  print(\"this is b\")\n",
    "  println(b)\n",
    "  error = DSP.conv(b[2], sw)\n",
    "  \n",
    "  return error\n",
    "end\n",
    "\n",
    "sw = confront[5800:6200]\n",
    "orden = 2\n",
    "\n",
    "error = error_prediccion(sw, orden)"
   ]
  },
  {
   "cell_type": "markdown",
   "metadata": {},
   "source": [
    "2. Sintetice la trama de voz analizada mediante el filtro de síntesis calculado en el apartado 1.4\n"
   ]
  },
  {
   "cell_type": "markdown",
   "metadata": {},
   "source": [
    "3. Inspeccione, auditivamente, en el tiempo y en la frecuencia las tramas de voz original y sintetizada. ¿Son correctos los coeficientes de análisis-síntesis?\n",
    "\n",
    "## Ejercicio 4: Síntesis LPC\n",
    "### Objetivo\n",
    "Realizar el análisis-síntesis LPC de una elocución de voz.\n",
    "### Contenido\n",
    "\n",
    "1. Identificar si cada trama de voz es sonora o sorda usando tanto la tasa de cruces por cero como la energía localizada.\n",
    "2. Calcular la frecuencia fundamental de las tramas sonoras, si puede, usando la FFT.\n",
    "3. De nuevo, calcule la frecuencia fundamental pero usando en este caso la autocorrelación. ¿En qué propiedad fundamental de la teoría de señales se basa este método? Para responder, reflexione acerca de lo que es la función de autocorrelación desarrollada más arriba.\n",
    "4. Encuentre una trama sorda y una trama sonora de su señal de voz como en 1.3 y calcule y visualice sus autocorrelaciones como en 2.2. Para la trama sonora, estime el tono fundamental como en 4.1\n",
    "5. Halle los espectros de las tramas seleccionadas y represéntelos para explorarlos.\n",
    "6. Construya una función que reciba una trama y devuelva todos los parámetros de análisis necesarios para re-sintetizar la trama.\n",
    "7. Construya una función que reciba todos los parámetros de análisis y reconstruya una trama de voz en el tiempo.\n",
    "8. Para toda la señal de voz s[n] diseñe e implemente un esquema de enventanado con ventanas de longitud N que se solapen un 50% de la longitud. Ayúdese de alguna referencia técnica si no entiende qué tiene que hacer. También, decida qué orden de filtro LPC va a usar...\n",
    "9. Sobre el diseño de enventanado anterior, cuando pase por una trama, analícela y sintetícela para construir una señal aproximada sZ[n].\n",
    "10. Compare s[n] y su aproximación sZ[n] visual y auditivamente. Investigue diferentes valores del orden del filtro. ¿Puede observar algún efecto en la señal reconstruida?\n",
    "\n",
    "## Ejercicio 5: Reflexión\n",
    "### Objetivo\n",
    "Aprender a descubrir y ser consciente de los resultados de aprendizaje propios.\n",
    "### Actividad\n",
    "Escriba un párrafo listando los conocimientos y destrezas adquiridos en esta práctica.\n"
   ]
  }
 ],
 "metadata": {
  "kernelspec": {
   "display_name": "Julia 1.9.3",
   "language": "julia",
   "name": "julia-1.9"
  },
  "language_info": {
   "file_extension": ".jl",
   "mimetype": "application/julia",
   "name": "julia",
   "version": "1.9.3"
  }
 },
 "nbformat": 4,
 "nbformat_minor": 2
}
