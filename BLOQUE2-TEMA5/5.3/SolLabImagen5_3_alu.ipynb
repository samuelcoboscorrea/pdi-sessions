{
 "cells": [
  {
   "cell_type": "markdown",
   "metadata": {},
   "source": [
    "---\n",
    "Title: \"Práctica de Imagen. Tema 5.3. Parte 1\"\n",
    "Author: <APELLIDOS>\n",
    "Fecha: \"12/12/2023\"\n",
    "---"
   ]
  },
  {
   "cell_type": "markdown",
   "metadata": {},
   "source": [
    "# Construcción del Entorno"
   ]
  },
  {
   "cell_type": "code",
   "execution_count": null,
   "metadata": {},
   "outputs": [],
   "source": [
    "import Pkg; Pkg.add(\"Images\")\n",
    "Pkg.add(\"TestImages\")\n",
    "Pkg.add(\"ImageView\")\n",
    "#Pkg.add(\"ImageMagick\")#For non-OSXes\n",
    "Pkg.add(\"QuartzImageIO\")#For OSXes. For some reason, this dependency for ImageIO.jl is not pulled with the rest\n",
    "Pkg.instantiate()#Imports all dependencies\n",
    "using Images, TestImages#also: add FileIO ImageMagick ImageIO\n",
    "using ImageIO#Supposedly disposes of problems with TIF images\n",
    "using QuartzImageIO#or ImageMagick\n",
    "#E.g. from https://juliaimages.org/latest/examples/spatial_transformation/histogram_equalization/\n",
    "Pkg.add(\"ImageContrastAdjustment\")\n",
    "using ImageContrastAdjustment"
   ]
  },
  {
   "cell_type": "markdown",
   "metadata": {},
   "source": [
    "Recuerda ajustar el directorio de trabajo para que existan las imagenes que van a ser usadas."
   ]
  },
  {
   "cell_type": "markdown",
   "metadata": {},
   "source": [
    "# Solución\n",
    "\n",
    "## Modificación de imágenes\n",
    "\n",
    "1. Lea las imagenes \"vista_ciudad.TIF\", \"coins.png\" y \"peppers.png\"\n",
    " La 1º imagen se debe cargar en img1, la 2ª en img2 y la 3ª en img3."
   ]
  },
  {
   "cell_type": "code",
   "execution_count": null,
   "metadata": {},
   "outputs": [],
   "source": [
    "dum = 0#Dummy value\n",
    "img1 = dum"
   ]
  },
  {
   "cell_type": "markdown",
   "metadata": {},
   "source": []
  },
  {
   "cell_type": "code",
   "execution_count": null,
   "metadata": {},
   "outputs": [],
   "source": [
    "using TestImages\n",
    "img2 = dum"
   ]
  },
  {
   "cell_type": "code",
   "execution_count": null,
   "metadata": {},
   "outputs": [],
   "source": [
    "img3 = dum"
   ]
  },
  {
   "cell_type": "markdown",
   "metadata": {},
   "source": [
    "2. Ecualizar linealmente las imágenes 1 y 2 en img1_1 y\n",
    "\n"
   ]
  },
  {
   "cell_type": "code",
   "execution_count": null,
   "metadata": {},
   "outputs": [],
   "source": [
    "using ImageContrastAdjustment\n",
    "img1_s = dum\n",
    "img2_s = dum"
   ]
  },
  {
   "cell_type": "markdown",
   "metadata": {},
   "source": [
    "3. Visualizar en dos figuras de 2 x 2 las imágenes y sus igualaciones:"
   ]
  },
  {
   "cell_type": "code",
   "execution_count": null,
   "metadata": {},
   "outputs": [],
   "source": [
    "mosaicview(img1, img1_s, img2, img2_s; nrow = 2)"
   ]
  },
  {
   "cell_type": "markdown",
   "metadata": {},
   "source": [
    "4. Convertir img3 a escala de grises y visualizarla."
   ]
  },
  {
   "cell_type": "code",
   "execution_count": null,
   "metadata": {},
   "outputs": [],
   "source": [
    "img3_g = dum;# Aprendido en %1y2\n",
    "img3_g_s = dum;\n",
    "mosaicview(img3, img3_g, img3_g_s; nrow = 1)"
   ]
  },
  {
   "cell_type": "markdown",
   "metadata": {},
   "source": [
    "5. Obtenga los canales R, G y B de img3"
   ]
  },
  {
   "cell_type": "code",
   "execution_count": null,
   "metadata": {},
   "outputs": [],
   "source": [
    "img3_R = dum;#Aprendido en P5.1y2\n",
    "img3_G = dum;\n",
    "img3_B = dum;"
   ]
  },
  {
   "cell_type": "markdown",
   "metadata": {},
   "source": [
    "Visualice los canales R, G y B de img3_g lado a lado en ese orden:\n"
   ]
  },
  {
   "cell_type": "code",
   "execution_count": null,
   "metadata": {},
   "outputs": [],
   "source": [
    "mosaicview(img3,img3_R,img3_G,img3_B; nrow=1)"
   ]
  },
  {
   "cell_type": "markdown",
   "metadata": {},
   "source": [
    "Otra manera de acceder los canales, con desestructuración:"
   ]
  },
  {
   "cell_type": "code",
   "execution_count": null,
   "metadata": {},
   "outputs": [],
   "source": [
    "img3_CHV = channelview(img3)#Desestructurar el pixel en tres dimensiones\n",
    "img3R = img3_CHV[1,:,:];\n",
    "img3G = img3_CHV[2,:,:];\n",
    "img3B = img3_CHV[3,:,:];\n",
    "mosaicview(img3,img3R,img3G,img3B; nrow=1)"
   ]
  },
  {
   "cell_type": "code",
   "execution_count": null,
   "metadata": {},
   "outputs": [],
   "source": [
    "#from ?colorview\n",
    "mosaicview(img3, colorview(RGB, img3R, img3G, img3B); nrow=1)"
   ]
  },
  {
   "cell_type": "markdown",
   "metadata": {},
   "source": [
    "6. Cree una imagen img3_nR como img3 en la que el canal R ha sido substituido por el \"complementario\" \n",
    "del canal R de img3 (recuerde la codificación de colores y tonos de grises en Julia) y visualize ambas imágenes, \n",
    "original y modificado lado a lado:"
   ]
  },
  {
   "cell_type": "code",
   "execution_count": null,
   "metadata": {},
   "outputs": [],
   "source": [
    "#img3_Rn = \n",
    "img3_nR = colorview(...);\n",
    "mosaicview(img3, img3_nR; nrow=1)"
   ]
  },
  {
   "cell_type": "markdown",
   "metadata": {},
   "source": [
    "## Histogramas"
   ]
  },
  {
   "cell_type": "code",
   "execution_count": null,
   "metadata": {},
   "outputs": [],
   "source": [
    "using Distributions#Invoca a las primitivas de estadística para generar distribuciones.\n",
    "using Statistics, StatsBase\n",
    "using Plots"
   ]
  },
  {
   "cell_type": "markdown",
   "metadata": {},
   "source": [
    "7. Genere una muestra de tamaño 10^5 de una Gaussiana de media 1 y varianza 2 y represente el histograma"
   ]
  },
  {
   "cell_type": "code",
   "execution_count": null,
   "metadata": {},
   "outputs": [],
   "source": [
    "\n",
    "sample = dum;\n",
    "mean(sample)#comprobación\n",
    "var(sample)#comprobación\n",
    "hist = dum#Using Histogram from StatsBase\n",
    "#plot(hist,...)#Use the proper names on axis, etc.\n",
    "plot!(hist)"
   ]
  },
  {
   "cell_type": "markdown",
   "metadata": {},
   "source": [
    "## Umbralizado"
   ]
  },
  {
   "cell_type": "code",
   "execution_count": null,
   "metadata": {},
   "outputs": [],
   "source": [
    "Pkg.add(\"ImageBinarization\")\n",
    "using ImageBinarization#Select the adequate package"
   ]
  },
  {
   "cell_type": "markdown",
   "metadata": {},
   "source": [
    "8. Umbraliza la img2. Para ello encuentra un umbral adecuado para la umbralización con el algoritmo de Otsu."
   ]
  },
  {
   "cell_type": "code",
   "execution_count": null,
   "metadata": {},
   "outputs": [],
   "source": [
    "t = dum\n",
    "println(\"El umbral adecuado para binarizar con el algoritmo de Otsu es $t.\")"
   ]
  },
  {
   "cell_type": "markdown",
   "metadata": {},
   "source": [
    "Comentario: la solución se puede encontrar en la documentación:\n",
    "https://juliaimages.org/ImageBinarization.jl/stable/reference/#Algorithms-that-utilizes-single-histogram-threshold"
   ]
  },
  {
   "cell_type": "markdown",
   "metadata": {},
   "source": [
    "Lleva a cabo la binarización. Termina ilustrando la imagen original y la umbralizada."
   ]
  },
  {
   "cell_type": "code",
   "execution_count": null,
   "metadata": {},
   "outputs": [],
   "source": [
    "img2_BW_Otsu = dum#Esto realmente la calcula desde el origen.\n",
    "#img2_BW = img2#Hacer la umbralización correctamente.\n",
    "mosaicview(img2, img2_BW_Otsu; nrow=1)"
   ]
  },
  {
   "cell_type": "markdown",
   "metadata": {},
   "source": [
    "Binarize con el algoritmo de umbralizado adaptativo. Visualiza junto al resultado anterior y comenta el resultado. "
   ]
  },
  {
   "cell_type": "code",
   "execution_count": null,
   "metadata": {},
   "outputs": [],
   "source": [
    "img2_BW_Adaptive = dum;\n",
    "#img2_BW = img2#Hacer la umbralización correctamente.\n",
    "mosaicview(img2, img2_BW_Otsu, img2_BW_Adaptive; nrow=1)"
   ]
  },
  {
   "cell_type": "markdown",
   "metadata": {},
   "source": [
    "Opinion:\n",
    "\n",
    "# Resultados de Aprendizaje\n",
    "\n",
    "Sumariza a continuación, en un bloque de Markdown lo que has aprendido en esta práctica."
   ]
  },
  {
   "cell_type": "markdown",
   "metadata": {},
   "source": []
  }
 ],
 "metadata": {
  "kernelspec": {
   "display_name": "Julia 1.9.3",
   "language": "julia",
   "name": "julia-1.9"
  },
  "language_info": {
   "file_extension": ".jl",
   "mimetype": "application/julia",
   "name": "julia",
   "version": "1.9.3"
  }
 },
 "nbformat": 4,
 "nbformat_minor": 2
}
