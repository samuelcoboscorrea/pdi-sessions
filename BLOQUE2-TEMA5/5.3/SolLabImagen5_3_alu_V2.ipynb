{
 "cells": [
  {
   "cell_type": "markdown",
   "metadata": {},
   "source": [
    "---\n",
    "Title: \"Práctica de Imagen. Tema 5.3. Parte 1\"\n",
    "Author: <APELLIDOS>\n",
    "Fecha: \"12/12/2023\"\n",
    "---"
   ]
  },
  {
   "cell_type": "markdown",
   "metadata": {},
   "source": [
    "# Construcción del Entorno"
   ]
  },
  {
   "cell_type": "code",
   "execution_count": 64,
   "metadata": {},
   "outputs": [],
   "source": [
    "# import Pkg; Pkg.add(\"Images\")\n",
    "# Pkg.add(\"TestImages\")\n",
    "# Pkg.add(\"ImageView\")\n",
    "#Pkg.add(\"ImageMagick\")#For non-OSXes\n",
    "# Pkg.add(\"QuartzImageIO\")#For OSXes. For some reason, this dependency for ImageIO.jl is not pulled with the rest\n",
    "# Pkg.instantiate()#Imports all dependencies\n",
    "using Images, TestImages#also: add FileIO ImageMagick ImageIO\n",
    "\n",
    "#E.g. from https://juliaimages.org/latest/examples/spatial_transformation/histogram_equalization/\n",
    "# Pkg.add(\"ImageContrastAdjustment\")\n",
    "using ImageContrastAdjustment"
   ]
  },
  {
   "cell_type": "markdown",
   "metadata": {},
   "source": [
    "Recuerda ajustar el directorio de trabajo para que existan las imagenes que van a ser usadas."
   ]
  },
  {
   "cell_type": "markdown",
   "metadata": {},
   "source": [
    "# Solución\n",
    "\n",
    "## Modificación de imágenes\n",
    "\n",
    "1. Lea las imagenes \"vista_ciudad.TIF\", \"coins.png\" y \"peppers.png\"\n",
    " La 1º imagen se debe cargar en img1, la 2ª en img2 y la 3ª en img3."
   ]
  },
  {
   "cell_type": "code",
   "execution_count": 65,
   "metadata": {},
   "outputs": [
    {
     "name": "stdout",
     "output_type": "stream",
     "text": [
      "All errors:\n",
      "===========================================\n",
      "LOAD_PATH entries cannot contain ':'\n",
      "===========================================\n",
      "ArgumentError: Package QuartzImageIO [dca85d43-d64c-5e67-8c65-017450d5d020] is required but does not seem to be installed:\n",
      " - Run `Pkg.instantiate()` to install all recorded dependencies.\n",
      "\n",
      "===========================================\n",
      "UndefVarError: `libwand` not defined\n",
      "===========================================\n"
     ]
    },
    {
     "name": "stderr",
     "output_type": "stream",
     "text": [
      "Errors encountered while load FileIO.File{FileIO.DataFormat{:PNG}, String}(\"coins.png\").\n",
      "\n",
      "Fatal error:\n"
     ]
    },
    {
     "ename": "CapturedException",
     "evalue": "LOAD_PATH entries cannot contain ':'\nStacktrace:\n  [1] error(s::String)\n    @ Base ./error.jl:35\n  [2] create_expr_cache(pkg::Base.PkgId, input::String, output::String, output_o::String, concrete_deps::Vector{Pair{Base.PkgId, UInt128}}, internal_stderr::IO, internal_stdout::IO)\n    @ Base ./loading.jl:2069\n  [3] compilecache(pkg::Base.PkgId, path::String, internal_stderr::IO, internal_stdout::IO, keep_loaded_modules::Bool)\n    @ Base ./loading.jl:2201\n  [4] compilecache\n    @ ./loading.jl:2167 [inlined]\n  [5] _require(pkg::Base.PkgId, env::Nothing)\n    @ Base ./loading.jl:1805\n  [6] _require_prelocked(uuidkey::Base.PkgId, env::Nothing)\n    @ Base ./loading.jl:1660\n  [7] _require_prelocked\n    @ ./loading.jl:1658 [inlined]\n  [8] macro expansion\n    @ ./lock.jl:267 [inlined]\n  [9] require(uuidkey::Base.PkgId)\n    @ Base ./loading.jl:1655\n [10] (::LazyModules.var\"#2#3\"{Base.PkgId})()\n    @ LazyModules ~/.julia/packages/LazyModules/d9Be6/src/LazyModules.jl:56\n [11] lock(f::LazyModules.var\"#2#3\"{Base.PkgId}, l::ReentrantLock)\n    @ Base ./lock.jl:229\n [12] checked_import\n    @ ~/.julia/packages/LazyModules/d9Be6/src/LazyModules.jl:54 [inlined]\n [13] checked_import\n    @ ~/.julia/packages/LazyModules/d9Be6/src/LazyModules.jl:65 [inlined]\n [14] getproperty\n    @ ~/.julia/packages/LazyModules/d9Be6/src/LazyModules.jl:40 [inlined]\n [15] load(f::FileIO.File{FileIO.DataFormat{:PNG}, String}; kwargs::Base.Pairs{Symbol, Union{}, Tuple{}, NamedTuple{(), Tuple{}}})\n    @ ImageIO ~/.julia/packages/ImageIO/XthUV/src/ImageIO.jl:61\n [16] load(f::FileIO.File{FileIO.DataFormat{:PNG}, String})\n    @ ImageIO ~/.julia/packages/ImageIO/XthUV/src/ImageIO.jl:60\n [17] #invokelatest#2\n    @ ./essentials.jl:819 [inlined]\n [18] invokelatest\n    @ ./essentials.jl:816 [inlined]\n [19] action(::Symbol, ::Vector{Union{Base.PkgId, Module}}, ::FileIO.Formatted; options::Base.Pairs{Symbol, Union{}, Tuple{}, NamedTuple{(), Tuple{}}})\n    @ FileIO ~/.julia/packages/FileIO/BE7iZ/src/loadsave.jl:219\n [20] action\n    @ ~/.julia/packages/FileIO/BE7iZ/src/loadsave.jl:196 [inlined]\n [21] action(::Symbol, ::Vector{Union{Base.PkgId, Module}}, ::Symbol, ::String; options::Base.Pairs{Symbol, Union{}, Tuple{}, NamedTuple{(), Tuple{}}})\n    @ FileIO ~/.julia/packages/FileIO/BE7iZ/src/loadsave.jl:185\n [22] action\n    @ ~/.julia/packages/FileIO/BE7iZ/src/loadsave.jl:185 [inlined]\n [23] load(::String; options::Base.Pairs{Symbol, Union{}, Tuple{}, NamedTuple{(), Tuple{}}})\n    @ FileIO ~/.julia/packages/FileIO/BE7iZ/src/loadsave.jl:113\n [24] load(::String)\n    @ FileIO ~/.julia/packages/FileIO/BE7iZ/src/loadsave.jl:109\n [25] top-level scope\n    @ ~/Desktop/Universidad/CURSO-2023:2024/pdi/pdi-sessions/BLOQUE2-TEMA5/5.3/SolLabImagen5_3_alu_V2.ipynb:4",
     "output_type": "error",
     "traceback": [
      "LOAD_PATH entries cannot contain ':'\n",
      "Stacktrace:\n",
      "  [1] error(s::String)\n",
      "    @ Base ./error.jl:35\n",
      "  [2] create_expr_cache(pkg::Base.PkgId, input::String, output::String, output_o::String, concrete_deps::Vector{Pair{Base.PkgId, UInt128}}, internal_stderr::IO, internal_stdout::IO)\n",
      "    @ Base ./loading.jl:2069\n",
      "  [3] compilecache(pkg::Base.PkgId, path::String, internal_stderr::IO, internal_stdout::IO, keep_loaded_modules::Bool)\n",
      "    @ Base ./loading.jl:2201\n",
      "  [4] compilecache\n",
      "    @ ./loading.jl:2167 [inlined]\n",
      "  [5] _require(pkg::Base.PkgId, env::Nothing)\n",
      "    @ Base ./loading.jl:1805\n",
      "  [6] _require_prelocked(uuidkey::Base.PkgId, env::Nothing)\n",
      "    @ Base ./loading.jl:1660\n",
      "  [7] _require_prelocked\n",
      "    @ ./loading.jl:1658 [inlined]\n",
      "  [8] macro expansion\n",
      "    @ ./lock.jl:267 [inlined]\n",
      "  [9] require(uuidkey::Base.PkgId)\n",
      "    @ Base ./loading.jl:1655\n",
      " [10] (::LazyModules.var\"#2#3\"{Base.PkgId})()\n",
      "    @ LazyModules ~/.julia/packages/LazyModules/d9Be6/src/LazyModules.jl:56\n",
      " [11] lock(f::LazyModules.var\"#2#3\"{Base.PkgId}, l::ReentrantLock)\n",
      "    @ Base ./lock.jl:229\n",
      " [12] checked_import\n",
      "    @ ~/.julia/packages/LazyModules/d9Be6/src/LazyModules.jl:54 [inlined]\n",
      " [13] checked_import\n",
      "    @ ~/.julia/packages/LazyModules/d9Be6/src/LazyModules.jl:65 [inlined]\n",
      " [14] getproperty\n",
      "    @ ~/.julia/packages/LazyModules/d9Be6/src/LazyModules.jl:40 [inlined]\n",
      " [15] load(f::FileIO.File{FileIO.DataFormat{:PNG}, String}; kwargs::Base.Pairs{Symbol, Union{}, Tuple{}, NamedTuple{(), Tuple{}}})\n",
      "    @ ImageIO ~/.julia/packages/ImageIO/XthUV/src/ImageIO.jl:61\n",
      " [16] load(f::FileIO.File{FileIO.DataFormat{:PNG}, String})\n",
      "    @ ImageIO ~/.julia/packages/ImageIO/XthUV/src/ImageIO.jl:60\n",
      " [17] #invokelatest#2\n",
      "    @ ./essentials.jl:819 [inlined]\n",
      " [18] invokelatest\n",
      "    @ ./essentials.jl:816 [inlined]\n",
      " [19] action(::Symbol, ::Vector{Union{Base.PkgId, Module}}, ::FileIO.Formatted; options::Base.Pairs{Symbol, Union{}, Tuple{}, NamedTuple{(), Tuple{}}})\n",
      "    @ FileIO ~/.julia/packages/FileIO/BE7iZ/src/loadsave.jl:219\n",
      " [20] action\n",
      "    @ ~/.julia/packages/FileIO/BE7iZ/src/loadsave.jl:196 [inlined]\n",
      " [21] action(::Symbol, ::Vector{Union{Base.PkgId, Module}}, ::Symbol, ::String; options::Base.Pairs{Symbol, Union{}, Tuple{}, NamedTuple{(), Tuple{}}})\n",
      "    @ FileIO ~/.julia/packages/FileIO/BE7iZ/src/loadsave.jl:185\n",
      " [22] action\n",
      "    @ ~/.julia/packages/FileIO/BE7iZ/src/loadsave.jl:185 [inlined]\n",
      " [23] load(::String; options::Base.Pairs{Symbol, Union{}, Tuple{}, NamedTuple{(), Tuple{}}})\n",
      "    @ FileIO ~/.julia/packages/FileIO/BE7iZ/src/loadsave.jl:113\n",
      " [24] load(::String)\n",
      "    @ FileIO ~/.julia/packages/FileIO/BE7iZ/src/loadsave.jl:109\n",
      " [25] top-level scope\n",
      "    @ ~/Desktop/Universidad/CURSO-2023:2024/pdi/pdi-sessions/BLOQUE2-TEMA5/5.3/SolLabImagen5_3_alu_V2.ipynb:4\n",
      "\n",
      "Stacktrace:\n",
      " [1] handle_error(e::ErrorException, q::Base.PkgId, bt::Vector{Union{Ptr{Nothing}, Base.InterpreterIP}})\n",
      "   @ FileIO ~/.julia/packages/FileIO/BE7iZ/src/error_handling.jl:61\n",
      " [2] handle_exceptions(exceptions::Vector{Tuple{Any, Union{Base.PkgId, Module}, Vector}}, action::String)\n",
      "   @ FileIO ~/.julia/packages/FileIO/BE7iZ/src/error_handling.jl:56\n",
      " [3] action(::Symbol, ::Vector{Union{Base.PkgId, Module}}, ::FileIO.Formatted; options::Base.Pairs{Symbol, Union{}, Tuple{}, NamedTuple{(), Tuple{}}})\n",
      "   @ FileIO ~/.julia/packages/FileIO/BE7iZ/src/loadsave.jl:228\n",
      " [4] action\n",
      "   @ ~/.julia/packages/FileIO/BE7iZ/src/loadsave.jl:196 [inlined]\n",
      " [5] action(::Symbol, ::Vector{Union{Base.PkgId, Module}}, ::Symbol, ::String; options::Base.Pairs{Symbol, Union{}, Tuple{}, NamedTuple{(), Tuple{}}})\n",
      "   @ FileIO ~/.julia/packages/FileIO/BE7iZ/src/loadsave.jl:185\n",
      " [6] action\n",
      "   @ ~/.julia/packages/FileIO/BE7iZ/src/loadsave.jl:185 [inlined]\n",
      " [7] load(::String; options::Base.Pairs{Symbol, Union{}, Tuple{}, NamedTuple{(), Tuple{}}})\n",
      "   @ FileIO ~/.julia/packages/FileIO/BE7iZ/src/loadsave.jl:113\n",
      " [8] load(::String)\n",
      "   @ FileIO ~/.julia/packages/FileIO/BE7iZ/src/loadsave.jl:109\n",
      " [9] top-level scope\n",
      "   @ ~/Desktop/Universidad/CURSO-2023:2024/pdi/pdi-sessions/BLOQUE2-TEMA5/5.3/SolLabImagen5_3_alu_V2.ipynb:4"
     ]
    }
   ],
   "source": [
    "using Images\n",
    "dum = 0 #Dummy value\n",
    "img1 = load(\"vista_ciudad.TIF\")\n",
    "img2 = load(\"coins.png\")\n",
    "img3 = load(\"peppers.png\")"
   ]
  },
  {
   "cell_type": "markdown",
   "metadata": {},
   "source": [
    "2. Ecualizar linealmente las imágenes 1 y 2 en img1_1 y\n",
    "\n"
   ]
  },
  {
   "cell_type": "code",
   "execution_count": 38,
   "metadata": {},
   "outputs": [
    {
     "ename": "UndefVarError",
     "evalue": "UndefVarError: `img2` not defined",
     "output_type": "error",
     "traceback": [
      "UndefVarError: `img2` not defined\n",
      "\n",
      "Stacktrace:\n",
      " [1] top-level scope\n",
      "   @ ~/Desktop/Universidad/CURSO-2023:2024/pdi/pdi-sessions/BLOQUE2-TEMA5/5.3/SolLabImagen5_3_alu_V2.ipynb:3"
     ]
    }
   ],
   "source": [
    "using ImageContrastAdjustment\n",
    "img1_s = adjust_histogram(img1, Equalization())\n",
    "img2_s = adjust_histogram(img2, Equalization())"
   ]
  },
  {
   "cell_type": "markdown",
   "metadata": {},
   "source": [
    "3. Visualizar en dos figuras de 2 x 2 las imágenes y sus igualaciones:"
   ]
  },
  {
   "cell_type": "code",
   "execution_count": 39,
   "metadata": {},
   "outputs": [
    {
     "ename": "UndefVarError",
     "evalue": "UndefVarError: `img2` not defined",
     "output_type": "error",
     "traceback": [
      "UndefVarError: `img2` not defined\n",
      "\n",
      "Stacktrace:\n",
      " [1] top-level scope\n",
      "   @ ~/Desktop/Universidad/CURSO-2023:2024/pdi/pdi-sessions/BLOQUE2-TEMA5/5.3/SolLabImagen5_3_alu_V2.ipynb:1"
     ]
    }
   ],
   "source": [
    "mosaicview(img1, img1_s, img2, img2_s; nrow = 2)"
   ]
  },
  {
   "cell_type": "markdown",
   "metadata": {},
   "source": [
    "4. Convertir img3 a escala de grises y visualizarla."
   ]
  },
  {
   "cell_type": "code",
   "execution_count": 40,
   "metadata": {},
   "outputs": [
    {
     "ename": "UndefVarError",
     "evalue": "UndefVarError: `img3` not defined",
     "output_type": "error",
     "traceback": [
      "UndefVarError: `img3` not defined\n",
      "\n",
      "Stacktrace:\n",
      " [1] top-level scope\n",
      "   @ ~/Desktop/Universidad/CURSO-2023:2024/pdi/pdi-sessions/BLOQUE2-TEMA5/5.3/SolLabImagen5_3_alu_V2.ipynb:1"
     ]
    }
   ],
   "source": [
    "img3_g = Gray.(img3)\n",
    "img3_g_s = adjust_histogram(img3_g, Equalization())\n",
    "mosaicview(img3, img3_g, img3_g_s; nrow = 1)"
   ]
  },
  {
   "cell_type": "markdown",
   "metadata": {},
   "source": [
    "5. Obtenga los canales R, G y B de img3"
   ]
  },
  {
   "cell_type": "code",
   "execution_count": 41,
   "metadata": {},
   "outputs": [
    {
     "ename": "UndefVarError",
     "evalue": "UndefVarError: `img3` not defined",
     "output_type": "error",
     "traceback": [
      "UndefVarError: `img3` not defined\n",
      "\n",
      "Stacktrace:\n",
      " [1] top-level scope\n",
      "   @ ~/Desktop/Universidad/CURSO-2023:2024/pdi/pdi-sessions/BLOQUE2-TEMA5/5.3/SolLabImagen5_3_alu_V2.ipynb:1"
     ]
    }
   ],
   "source": [
    "img3_r = red.(img3)\n",
    "img3_v = green.(img3)\n",
    "img3_a = blue.(img3)\n",
    "\n",
    "img3_R = RGB.(img3_r)\n",
    "img3_G = RGB.(img3_v)\n",
    "img3_B = RGB.(img3_a)"
   ]
  },
  {
   "cell_type": "markdown",
   "metadata": {},
   "source": [
    "Visualice los canales R, G y B de img3_g lado a lado en ese orden:\n"
   ]
  },
  {
   "cell_type": "code",
   "execution_count": 42,
   "metadata": {},
   "outputs": [
    {
     "ename": "UndefVarError",
     "evalue": "UndefVarError: `img3` not defined",
     "output_type": "error",
     "traceback": [
      "UndefVarError: `img3` not defined\n",
      "\n",
      "Stacktrace:\n",
      " [1] top-level scope\n",
      "   @ ~/Desktop/Universidad/CURSO-2023:2024/pdi/pdi-sessions/BLOQUE2-TEMA5/5.3/SolLabImagen5_3_alu_V2.ipynb:1"
     ]
    }
   ],
   "source": [
    "mosaicview(img3,img3_R,img3_G,img3_B; nrow=1)"
   ]
  },
  {
   "cell_type": "markdown",
   "metadata": {},
   "source": [
    "Otra manera de acceder los canales, con desestructuración:"
   ]
  },
  {
   "cell_type": "code",
   "execution_count": 43,
   "metadata": {},
   "outputs": [
    {
     "ename": "UndefVarError",
     "evalue": "UndefVarError: `img3` not defined",
     "output_type": "error",
     "traceback": [
      "UndefVarError: `img3` not defined\n",
      "\n",
      "Stacktrace:\n",
      " [1] top-level scope\n",
      "   @ ~/Desktop/Universidad/CURSO-2023:2024/pdi/pdi-sessions/BLOQUE2-TEMA5/5.3/SolLabImagen5_3_alu_V2.ipynb:1"
     ]
    }
   ],
   "source": [
    "img3_CHV = channelview(img3)#Desestructurar el pixel en tres dimensiones\n",
    "img3R = img3_CHV[1,:,:];\n",
    "img3G = img3_CHV[2,:,:];\n",
    "img3B = img3_CHV[3,:,:];\n",
    "mosaicview(img3,img3R,img3G,img3B; nrow=1)"
   ]
  },
  {
   "cell_type": "code",
   "execution_count": 44,
   "metadata": {},
   "outputs": [
    {
     "ename": "UndefVarError",
     "evalue": "UndefVarError: `img3R` not defined",
     "output_type": "error",
     "traceback": [
      "UndefVarError: `img3R` not defined\n",
      "\n",
      "Stacktrace:\n",
      " [1] top-level scope\n",
      "   @ ~/Desktop/Universidad/CURSO-2023:2024/pdi/pdi-sessions/BLOQUE2-TEMA5/5.3/SolLabImagen5_3_alu_V2.ipynb:2"
     ]
    }
   ],
   "source": [
    "#from ?colorview\n",
    "mosaicview(img3, colorview(RGB, img3R, img3G, img3B); nrow=1)"
   ]
  },
  {
   "cell_type": "markdown",
   "metadata": {},
   "source": [
    "6. Cree una imagen img3_nR como img3 en la que el canal R ha sido substituido por el \"complementario\" \n",
    "del canal R de img3 (recuerde la codificación de colores y tonos de grises en Julia) y visualize ambas imágenes, \n",
    "original y modificado lado a lado:"
   ]
  },
  {
   "cell_type": "code",
   "execution_count": 45,
   "metadata": {},
   "outputs": [
    {
     "ename": "UndefVarError",
     "evalue": "UndefVarError: `img3R` not defined",
     "output_type": "error",
     "traceback": [
      "UndefVarError: `img3R` not defined\n",
      "\n",
      "Stacktrace:\n",
      " [1] top-level scope\n",
      "   @ ~/Desktop/Universidad/CURSO-2023:2024/pdi/pdi-sessions/BLOQUE2-TEMA5/5.3/SolLabImagen5_3_alu_V2.ipynb:1"
     ]
    }
   ],
   "source": [
    "img3_Rn = 1.0 .- img3R\n",
    "img3_nR = colorview(RGB, img3_Rn, img3G, img3B)\n",
    "mosaicview(img3, img3_nR; nrow=1)"
   ]
  },
  {
   "cell_type": "markdown",
   "metadata": {},
   "source": [
    "## Histogramas"
   ]
  },
  {
   "cell_type": "code",
   "execution_count": 46,
   "metadata": {},
   "outputs": [
    {
     "ename": "ErrorException",
     "evalue": "LOAD_PATH entries cannot contain ':'",
     "output_type": "error",
     "traceback": [
      "LOAD_PATH entries cannot contain ':'\n",
      "\n",
      "Stacktrace:\n",
      "  [1] error(s::String)\n",
      "    @ Base ./error.jl:35\n",
      "  [2] create_expr_cache(pkg::Base.PkgId, input::String, output::String, output_o::String, concrete_deps::Vector{Pair{Base.PkgId, UInt128}}, internal_stderr::IO, internal_stdout::IO)\n",
      "    @ Base ./loading.jl:2069\n",
      "  [3] compilecache(pkg::Base.PkgId, path::String, internal_stderr::IO, internal_stdout::IO, keep_loaded_modules::Bool)\n",
      "    @ Base ./loading.jl:2201\n",
      "  [4] compilecache\n",
      "    @ ./loading.jl:2167 [inlined]\n",
      "  [5] _require(pkg::Base.PkgId, env::String)\n",
      "    @ Base ./loading.jl:1805\n",
      "  [6] _require_prelocked(uuidkey::Base.PkgId, env::String)\n",
      "    @ Base ./loading.jl:1660\n",
      "  [7] macro expansion\n",
      "    @ ./loading.jl:1648 [inlined]\n",
      "  [8] macro expansion\n",
      "    @ ./lock.jl:267 [inlined]\n",
      "  [9] require(into::Module, mod::Symbol)\n",
      "    @ Base ./loading.jl:1611\n",
      " [10] eval\n",
      "    @ ./boot.jl:370 [inlined]\n",
      " [11] include_string(mapexpr::typeof(REPL.softscope), mod::Module, code::String, filename::String)\n",
      "    @ Base ./loading.jl:1903\n",
      " [12] #invokelatest#2\n",
      "    @ ./essentials.jl:819 [inlined]\n",
      " [13] invokelatest\n",
      "    @ ./essentials.jl:816 [inlined]\n",
      " [14] (::VSCodeServer.var\"#208#209\"{VSCodeServer.NotebookRunCellArguments, String})()\n",
      "    @ VSCodeServer ~/.vscode/extensions/julialang.language-julia-1.65.2/scripts/packages/VSCodeServer/src/serve_notebook.jl:19\n",
      " [15] withpath(f::VSCodeServer.var\"#208#209\"{VSCodeServer.NotebookRunCellArguments, String}, path::String)\n",
      "    @ VSCodeServer ~/.vscode/extensions/julialang.language-julia-1.65.2/scripts/packages/VSCodeServer/src/repl.jl:274\n",
      " [16] notebook_runcell_request(conn::VSCodeServer.JSONRPC.JSONRPCEndpoint{Base.PipeEndpoint, Base.PipeEndpoint}, params::VSCodeServer.NotebookRunCellArguments)\n",
      "    @ VSCodeServer ~/.vscode/extensions/julialang.language-julia-1.65.2/scripts/packages/VSCodeServer/src/serve_notebook.jl:13\n",
      " [17] dispatch_msg(x::VSCodeServer.JSONRPC.JSONRPCEndpoint{Base.PipeEndpoint, Base.PipeEndpoint}, dispatcher::VSCodeServer.JSONRPC.MsgDispatcher, msg::Dict{String, Any})\n",
      "    @ VSCodeServer.JSONRPC ~/.vscode/extensions/julialang.language-julia-1.65.2/scripts/packages/JSONRPC/src/typed.jl:67\n",
      " [18] serve_notebook(pipename::String, outputchannel_logger::Base.CoreLogging.SimpleLogger; crashreporting_pipename::String)\n",
      "    @ VSCodeServer ~/.vscode/extensions/julialang.language-julia-1.65.2/scripts/packages/VSCodeServer/src/serve_notebook.jl:139\n",
      " [19] top-level scope\n",
      "    @ ~/.vscode/extensions/julialang.language-julia-1.65.2/scripts/notebook/notebook.jl:32"
     ]
    }
   ],
   "source": [
    "using Distributions#Invoca a las primitivas de estadística para generar distribuciones.\n",
    "using Statistics, StatsBase\n",
    "using Plots\n"
   ]
  },
  {
   "cell_type": "markdown",
   "metadata": {},
   "source": [
    "7. Genere una muestra de tamaño 10^5 de una Gaussiana de media 1 y varianza 2 y represente el histograma"
   ]
  },
  {
   "cell_type": "code",
   "execution_count": 47,
   "metadata": {},
   "outputs": [
    {
     "name": "stderr",
     "output_type": "stream",
     "text": [
      "┌ Error: Hint-handler #41 for MethodError in ImageCore caused an error\n",
      "└ @ Base.Experimental experimental.jl:321\n"
     ]
    },
    {
     "ename": "MethodError",
     "evalue": "MethodError: objects of type Float64 are not callable\nMaybe you forgot to use an operator such as *, ^, %, / etc. ?",
     "output_type": "error",
     "traceback": [
      "MethodError: objects of type Float64 are not callable\n",
      "Maybe you forgot to use an operator such as *, ^, %, / etc. ?\n",
      "\n",
      "Stacktrace:\n",
      " [1] top-level scope\n",
      "   @ ~/Desktop/Universidad/CURSO-2023:2024/pdi/pdi-sessions/BLOQUE2-TEMA5/5.3/SolLabImagen5_3_alu_V2.ipynb:8"
     ]
    }
   ],
   "source": [
    "\n",
    "med, var, size = 1.0, 2.0, 10.0 ^ 5\n",
    "\n",
    "sample = randn(Int(size)) * sqrt(var) .+ med\n",
    "\n",
    "\n",
    "mean(sample)#comprobación\n",
    "var(sample)#comprobación\n"
   ]
  },
  {
   "cell_type": "markdown",
   "metadata": {},
   "source": [
    "## Umbralizado"
   ]
  },
  {
   "cell_type": "code",
   "execution_count": 48,
   "metadata": {},
   "outputs": [
    {
     "name": "stderr",
     "output_type": "stream",
     "text": [
      "\u001b[32m\u001b[1m   Resolving\u001b[22m\u001b[39m package versions...\n"
     ]
    },
    {
     "name": "stderr",
     "output_type": "stream",
     "text": [
      "\u001b[32m\u001b[1m    Updating\u001b[22m\u001b[39m `~/Desktop/Universidad/CURSO-2023:2024/pdi/pdi-sessions/Project.toml`\n",
      "  \u001b[90m[cbc4b850] \u001b[39m\u001b[92m+ ImageBinarization v0.3.0\u001b[39m\n",
      "\u001b[32m\u001b[1m    Updating\u001b[22m\u001b[39m `~/Desktop/Universidad/CURSO-2023:2024/pdi/pdi-sessions/Manifest.toml`\n",
      "  \u001b[90m[2c695a8d] \u001b[39m\u001b[92m+ HistogramThresholding v0.3.1\u001b[39m\n",
      "  \u001b[90m[cbc4b850] \u001b[39m\u001b[92m+ ImageBinarization v0.3.0\u001b[39m\n",
      "\u001b[33m⌅\u001b[39m \u001b[90m[f27b6e38] \u001b[39m\u001b[92m+ Polynomials v3.2.13\u001b[39m\n",
      "  \u001b[90m[3cdcf5f2] \u001b[39m\u001b[92m+ RecipesBase v1.3.4\u001b[39m\n",
      "\u001b[36m\u001b[1m        Info\u001b[22m\u001b[39m Packages marked with \u001b[33m⌅\u001b[39m have new versions available but compatibility constraints restrict them from upgrading. To see why use `status --outdated -m`\n"
     ]
    }
   ],
   "source": [
    "Pkg.add(\"ImageBinarization\")\n",
    "using ImageBinarization#Select the adequate package"
   ]
  },
  {
   "cell_type": "markdown",
   "metadata": {},
   "source": [
    "8. Umbraliza la img2. Para ello encuentra un umbral adecuado para la umbralización con el algoritmo de Otsu."
   ]
  },
  {
   "cell_type": "code",
   "execution_count": 49,
   "metadata": {},
   "outputs": [
    {
     "name": "stdout",
     "output_type": "stream",
     "text": [
      "El umbral adecuado para binarizar con el algoritmo de Otsu es 0.\n"
     ]
    }
   ],
   "source": [
    "t = dum\n",
    "println(\"El umbral adecuado para binarizar con el algoritmo de Otsu es $t.\")"
   ]
  },
  {
   "cell_type": "markdown",
   "metadata": {},
   "source": [
    "Comentario: la solución se puede encontrar en la documentación:\n",
    "https://juliaimages.org/ImageBinarization.jl/stable/reference/#Algorithms-that-utilizes-single-histogram-threshold"
   ]
  },
  {
   "cell_type": "markdown",
   "metadata": {},
   "source": [
    "Lleva a cabo la binarización. Termina ilustrando la imagen original y la umbralizada."
   ]
  },
  {
   "cell_type": "code",
   "execution_count": 50,
   "metadata": {},
   "outputs": [
    {
     "ename": "UndefVarError",
     "evalue": "UndefVarError: `img2` not defined",
     "output_type": "error",
     "traceback": [
      "UndefVarError: `img2` not defined\n",
      "\n",
      "Stacktrace:\n",
      " [1] top-level scope\n",
      "   @ ~/Desktop/Universidad/CURSO-2023:2024/pdi/pdi-sessions/BLOQUE2-TEMA5/5.3/SolLabImagen5_3_alu_V2.ipynb:3"
     ]
    }
   ],
   "source": [
    "img2_BW_Otsu = dum#Esto realmente la calcula desde el origen.\n",
    "#img2_BW = img2#Hacer la umbralización correctamente.\n",
    "mosaicview(img2, img2_BW_Otsu; nrow=1)"
   ]
  },
  {
   "cell_type": "markdown",
   "metadata": {},
   "source": [
    "Binarize con el algoritmo de umbralizado adaptativo. Visualiza junto al resultado anterior y comenta el resultado. "
   ]
  },
  {
   "cell_type": "code",
   "execution_count": 51,
   "metadata": {},
   "outputs": [
    {
     "ename": "UndefVarError",
     "evalue": "UndefVarError: `img2` not defined",
     "output_type": "error",
     "traceback": [
      "UndefVarError: `img2` not defined\n",
      "\n",
      "Stacktrace:\n",
      " [1] top-level scope\n",
      "   @ ~/Desktop/Universidad/CURSO-2023:2024/pdi/pdi-sessions/BLOQUE2-TEMA5/5.3/SolLabImagen5_3_alu_V2.ipynb:3"
     ]
    }
   ],
   "source": [
    "img2_BW_Adaptive = dum;\n",
    "#img2_BW = img2#Hacer la umbralización correctamente.\n",
    "mosaicview(img2, img2_BW_Otsu, img2_BW_Adaptive; nrow=1)"
   ]
  },
  {
   "cell_type": "markdown",
   "metadata": {},
   "source": [
    "Opinion:"
   ]
  },
  {
   "cell_type": "markdown",
   "metadata": {},
   "source": [
    "# Visualización del ruido"
   ]
  },
  {
   "cell_type": "code",
   "execution_count": 52,
   "metadata": {},
   "outputs": [
    {
     "name": "stderr",
     "output_type": "stream",
     "text": [
      "\u001b[32m\u001b[1m   Resolving\u001b[22m\u001b[39m package versions...\n",
      "\u001b[32m\u001b[1m    Updating\u001b[22m\u001b[39m `~/Desktop/Universidad/CURSO-2023:2024/pdi/pdi-sessions/Project.toml`\n",
      "  \u001b[90m[81d43f40] \u001b[39m\u001b[92m+ Noise v0.3.3\u001b[39m\n",
      "\u001b[32m\u001b[1m    Updating\u001b[22m\u001b[39m `~/Desktop/Universidad/CURSO-2023:2024/pdi/pdi-sessions/Manifest.toml`\n",
      " "
     ]
    },
    {
     "name": "stderr",
     "output_type": "stream",
     "text": [
      " \u001b[90m[81d43f40] \u001b[39m\u001b[92m+ Noise v0.3.3\u001b[39m\n",
      "  \u001b[90m[e409e4f3] \u001b[39m\u001b[92m+ PoissonRandom v0.4.4\u001b[39m\n",
      "\u001b[32m\u001b[1mPrecompiling\u001b[22m\u001b[39m project...\n",
      "\u001b[91m  ✗ \u001b[39m\u001b[90mPoissonRandom\u001b[39m\n",
      "\u001b[91m  ✗ \u001b[39mNoise\n",
      "  0 dependencies successfully precompiled in 0 seconds. 48 already precompiled. 14 skipped during auto due to previous errors.\n",
      "  \u001b[91m2\u001b[39m dependencies errored. To see a full report either run `import Pkg; Pkg.precompile()` or load the packages\n"
     ]
    },
    {
     "ename": "ErrorException",
     "evalue": "LOAD_PATH entries cannot contain ':'",
     "output_type": "error",
     "traceback": [
      "LOAD_PATH entries cannot contain ':'\n",
      "\n",
      "Stacktrace:\n",
      "  [1] error(s::String)\n",
      "    @ Base ./error.jl:35\n",
      "  [2] create_expr_cache(pkg::Base.PkgId, input::String, output::String, output_o::String, concrete_deps::Vector{Pair{Base.PkgId, UInt128}}, internal_stderr::IO, internal_stdout::IO)\n",
      "    @ Base ./loading.jl:2069\n",
      "  [3] compilecache(pkg::Base.PkgId, path::String, internal_stderr::IO, internal_stdout::IO, keep_loaded_modules::Bool)\n",
      "    @ Base ./loading.jl:2201\n",
      "  [4] compilecache\n",
      "    @ ./loading.jl:2167 [inlined]\n",
      "  [5] _require(pkg::Base.PkgId, env::String)\n",
      "    @ Base ./loading.jl:1805\n",
      "  [6] _require_prelocked(uuidkey::Base.PkgId, env::String)\n",
      "    @ Base ./loading.jl:1660\n",
      "  [7] macro expansion\n",
      "    @ ./loading.jl:1648 [inlined]\n",
      "  [8] macro expansion\n",
      "    @ ./lock.jl:267 [inlined]\n",
      "  [9] require(into::Module, mod::Symbol)\n",
      "    @ Base ./loading.jl:1611\n",
      " [10] eval\n",
      "    @ ./boot.jl:370 [inlined]\n",
      " [11] include_string(mapexpr::typeof(REPL.softscope), mod::Module, code::String, filename::String)\n",
      "    @ Base ./loading.jl:1903\n",
      " [12] #invokelatest#2\n",
      "    @ ./essentials.jl:819 [inlined]\n",
      " [13] invokelatest\n",
      "    @ ./essentials.jl:816 [inlined]\n",
      " [14] (::VSCodeServer.var\"#208#209\"{VSCodeServer.NotebookRunCellArguments, String})()\n",
      "    @ VSCodeServer ~/.vscode/extensions/julialang.language-julia-1.65.2/scripts/packages/VSCodeServer/src/serve_notebook.jl:19\n",
      " [15] withpath(f::VSCodeServer.var\"#208#209\"{VSCodeServer.NotebookRunCellArguments, String}, path::String)\n",
      "    @ VSCodeServer ~/.vscode/extensions/julialang.language-julia-1.65.2/scripts/packages/VSCodeServer/src/repl.jl:274\n",
      " [16] notebook_runcell_request(conn::VSCodeServer.JSONRPC.JSONRPCEndpoint{Base.PipeEndpoint, Base.PipeEndpoint}, params::VSCodeServer.NotebookRunCellArguments)\n",
      "    @ VSCodeServer ~/.vscode/extensions/julialang.language-julia-1.65.2/scripts/packages/VSCodeServer/src/serve_notebook.jl:13\n",
      " [17] dispatch_msg(x::VSCodeServer.JSONRPC.JSONRPCEndpoint{Base.PipeEndpoint, Base.PipeEndpoint}, dispatcher::VSCodeServer.JSONRPC.MsgDispatcher, msg::Dict{String, Any})\n",
      "    @ VSCodeServer.JSONRPC ~/.vscode/extensions/julialang.language-julia-1.65.2/scripts/packages/JSONRPC/src/typed.jl:67\n",
      " [18] serve_notebook(pipename::String, outputchannel_logger::Base.CoreLogging.SimpleLogger; crashreporting_pipename::String)\n",
      "    @ VSCodeServer ~/.vscode/extensions/julialang.language-julia-1.65.2/scripts/packages/VSCodeServer/src/serve_notebook.jl:139\n",
      " [19] top-level scope\n",
      "    @ ~/.vscode/extensions/julialang.language-julia-1.65.2/scripts/notebook/notebook.jl:32"
     ]
    }
   ],
   "source": [
    "Pkg.add(\"Noise\")\n",
    "using Noise\n",
    "img4 = img2;"
   ]
  },
  {
   "cell_type": "markdown",
   "metadata": {},
   "source": [
    "Genera tres nuevas imágenes con ruido gaussiano aditivo, multiplicativo y \"salt & pepper\" con potencia media de ruido 0.02 y visualízalas en una sola figura."
   ]
  },
  {
   "cell_type": "code",
   "execution_count": 53,
   "metadata": {},
   "outputs": [
    {
     "ename": "UndefVarError",
     "evalue": "UndefVarError: `img4` not defined",
     "output_type": "error",
     "traceback": [
      "UndefVarError: `img4` not defined\n",
      "\n",
      "Stacktrace:\n",
      " [1] top-level scope\n",
      "   @ ~/Desktop/Universidad/CURSO-2023:2024/pdi/pdi-sessions/BLOQUE2-TEMA5/5.3/SolLabImagen5_3_alu_V2.ipynb:4"
     ]
    }
   ],
   "source": [
    "img4_ga = dum;\n",
    "img4_gm = dum;\n",
    "img4_sp = dum;\n",
    "mosaicview(img4,img4_ga, img4_gm, img4_sp; nrow=1)"
   ]
  },
  {
   "cell_type": "markdown",
   "metadata": {},
   "source": [
    "Calcule y represente sus tres histogramas en una figura 1x3"
   ]
  },
  {
   "cell_type": "code",
   "execution_count": 54,
   "metadata": {},
   "outputs": [
    {
     "ename": "UndefVarError",
     "evalue": "UndefVarError: `plot!` not defined",
     "output_type": "error",
     "traceback": [
      "UndefVarError: `plot!` not defined\n",
      "\n",
      "Stacktrace:\n",
      " [1] top-level scope\n",
      "   @ ~/Desktop/Universidad/CURSO-2023:2024/pdi/pdi-sessions/BLOQUE2-TEMA5/5.3/SolLabImagen5_3_alu_V2.ipynb:4"
     ]
    }
   ],
   "source": [
    "hist_img4_ga = dum;\n",
    "hist_img4_gm = dum;\n",
    "hist_img4_sp = dum;\n",
    "plot!(dum)"
   ]
  },
  {
   "cell_type": "markdown",
   "metadata": {},
   "source": [
    "# Filtrado Lineal\n",
    "\n",
    "10.1 Filtra img4_ga con una máscara de suavizado 5x5 con la estrategia \"zero padding\" y \"mirror padding\" y \n",
    "guarda el resultado en img4_ga_fzer e img_ga_fsym. \n",
    "\n",
    "Lee como referencia: \n",
    "https://juliaimages.org/ImageFiltering.jl/stable/function_reference/#ImageFiltering.MapWindow.mapwindow\n",
    "\n",
    "Usa el ejemplo (que es para un filtro de mediana) de:\n",
    "https://juliaimages.org/ImageFiltering.jl/stable/demos/filters/median_filter/#Custom-median-filters"
   ]
  },
  {
   "cell_type": "code",
   "execution_count": 55,
   "metadata": {},
   "outputs": [
    {
     "ename": "ArgumentError",
     "evalue": "ArgumentError: Package ImageFiltering not found in current path, maybe you meant `import/using .ImageFiltering`.\n- Otherwise, run `import Pkg; Pkg.add(\"ImageFiltering\")` to install the ImageFiltering package.",
     "output_type": "error",
     "traceback": [
      "ArgumentError: Package ImageFiltering not found in current path, maybe you meant `import/using .ImageFiltering`.\n",
      "- Otherwise, run `import Pkg; Pkg.add(\"ImageFiltering\")` to install the ImageFiltering package.\n",
      "\n",
      "Stacktrace:\n",
      "  [1] macro expansion\n",
      "    @ ./loading.jl:1630 [inlined]\n",
      "  [2] macro expansion\n",
      "    @ ./lock.jl:267 [inlined]\n",
      "  [3] require(into::Module, mod::Symbol)\n",
      "    @ Base ./loading.jl:1611\n",
      "  [4] eval\n",
      "    @ ./boot.jl:370 [inlined]\n",
      "  [5] include_string(mapexpr::typeof(REPL.softscope), mod::Module, code::String, filename::String)\n",
      "    @ Base ./loading.jl:1903\n",
      "  [6] #invokelatest#2\n",
      "    @ ./essentials.jl:819 [inlined]\n",
      "  [7] invokelatest\n",
      "    @ ./essentials.jl:816 [inlined]\n",
      "  [8] (::VSCodeServer.var\"#208#209\"{VSCodeServer.NotebookRunCellArguments, String})()\n",
      "    @ VSCodeServer ~/.vscode/extensions/julialang.language-julia-1.65.2/scripts/packages/VSCodeServer/src/serve_notebook.jl:19\n",
      "  [9] withpath(f::VSCodeServer.var\"#208#209\"{VSCodeServer.NotebookRunCellArguments, String}, path::String)\n",
      "    @ VSCodeServer ~/.vscode/extensions/julialang.language-julia-1.65.2/scripts/packages/VSCodeServer/src/repl.jl:274\n",
      " [10] notebook_runcell_request(conn::VSCodeServer.JSONRPC.JSONRPCEndpoint{Base.PipeEndpoint, Base.PipeEndpoint}, params::VSCodeServer.NotebookRunCellArguments)\n",
      "    @ VSCodeServer ~/.vscode/extensions/julialang.language-julia-1.65.2/scripts/packages/VSCodeServer/src/serve_notebook.jl:13\n",
      " [11] dispatch_msg(x::VSCodeServer.JSONRPC.JSONRPCEndpoint{Base.PipeEndpoint, Base.PipeEndpoint}, dispatcher::VSCodeServer.JSONRPC.MsgDispatcher, msg::Dict{String, Any})\n",
      "    @ VSCodeServer.JSONRPC ~/.vscode/extensions/julialang.language-julia-1.65.2/scripts/packages/JSONRPC/src/typed.jl:67\n",
      " [12] serve_notebook(pipename::String, outputchannel_logger::Base.CoreLogging.SimpleLogger; crashreporting_pipename::String)\n",
      "    @ VSCodeServer ~/.vscode/extensions/julialang.language-julia-1.65.2/scripts/packages/VSCodeServer/src/serve_notebook.jl:139\n",
      " [13] top-level scope\n",
      "    @ ~/.vscode/extensions/julialang.language-julia-1.65.2/scripts/notebook/notebook.jl:32"
     ]
    }
   ],
   "source": [
    "using ImageFiltering#Debería estar en JuliaImages\n",
    "img4_ga_fzer = dum\n",
    "img4_ga_fsym = dum"
   ]
  },
  {
   "cell_type": "markdown",
   "metadata": {},
   "source": [
    "10.2 Representa en una figura 1x3 las variables img4, img4_ga  e img4_ga_fzer."
   ]
  },
  {
   "cell_type": "code",
   "execution_count": 56,
   "metadata": {},
   "outputs": [
    {
     "ename": "ErrorException",
     "evalue": "syntax: invalid identifier name \"...\"",
     "output_type": "error",
     "traceback": [
      "syntax: invalid identifier name \"...\"\n",
      "\n",
      "Stacktrace:\n",
      " [1] top-level scope\n",
      "   @ ~/Desktop/Universidad/CURSO-2023:2024/pdi/pdi-sessions/BLOQUE2-TEMA5/5.3/SolLabImagen5_3_alu_V2.ipynb:1"
     ]
    }
   ],
   "source": [
    "mosaicview(...)"
   ]
  },
  {
   "cell_type": "markdown",
   "metadata": {},
   "source": [
    "10.3 Representa en una figura de 2x2 mg_g_fzer e img_g_fsym, y sus histogramas."
   ]
  },
  {
   "cell_type": "code",
   "execution_count": 57,
   "metadata": {},
   "outputs": [
    {
     "ename": "ErrorException",
     "evalue": "syntax: invalid identifier name \"...\"",
     "output_type": "error",
     "traceback": [
      "syntax: invalid identifier name \"...\"\n",
      "\n",
      "Stacktrace:\n",
      " [1] top-level scope\n",
      "   @ ~/Desktop/Universidad/CURSO-2023:2024/pdi/pdi-sessions/BLOQUE2-TEMA5/5.3/SolLabImagen5_3_alu_V2.ipynb:1"
     ]
    }
   ],
   "source": [
    "mosaicview(...)"
   ]
  },
  {
   "cell_type": "markdown",
   "metadata": {},
   "source": [
    "Repite los pasos anteriores con img4_sp, img4_sp_fzer  e img_sp_fsym."
   ]
  },
  {
   "cell_type": "code",
   "execution_count": 58,
   "metadata": {},
   "outputs": [],
   "source": [
    "#Code"
   ]
  },
  {
   "cell_type": "markdown",
   "metadata": {},
   "source": [
    "Repite los pasos anteriores con img4_s, img4_s_fzer  e img_s_fsym."
   ]
  },
  {
   "cell_type": "code",
   "execution_count": 59,
   "metadata": {},
   "outputs": [],
   "source": [
    "#Code"
   ]
  },
  {
   "cell_type": "markdown",
   "metadata": {},
   "source": [
    "## Filtrado de mediana\n",
    "\n",
    "Filtra img4_ga con un filtro de mediana 5x5 con la estrategia \"zero padding\" y \"mirror padding\" y \n",
    "guarda el resultado en img4_fmedzer y img4_fmedsym.\n",
    "\n",
    "Usa el ejemplo de:\n",
    "https://juliaimages.org/ImageFiltering.jl/stable/demos/filters/median_filter/#Custom-median-filters"
   ]
  },
  {
   "cell_type": "code",
   "execution_count": 60,
   "metadata": {},
   "outputs": [],
   "source": [
    "#Code"
   ]
  },
  {
   "cell_type": "markdown",
   "metadata": {},
   "source": [
    "\n",
    "Representa en una figura 1x3 img4, img4_ga y img4_fmedzer."
   ]
  },
  {
   "cell_type": "code",
   "execution_count": 61,
   "metadata": {},
   "outputs": [],
   "source": [
    "#Code"
   ]
  },
  {
   "cell_type": "markdown",
   "metadata": {},
   "source": [
    "Representa en una figura 2x2 img4_fmedzer, img4_fmedsym y sus histogramas."
   ]
  },
  {
   "cell_type": "code",
   "execution_count": 62,
   "metadata": {},
   "outputs": [],
   "source": [
    "#Code"
   ]
  },
  {
   "cell_type": "markdown",
   "metadata": {},
   "source": [
    "# Resultados de Aprendizaje\n",
    "\n",
    "Sumariza a continuación, en un bloque de Markdown lo que has aprendido en esta práctica."
   ]
  },
  {
   "cell_type": "markdown",
   "metadata": {},
   "source": []
  }
 ],
 "metadata": {
  "kernelspec": {
   "display_name": "Julia 1.9.3",
   "language": "julia",
   "name": "julia-1.9"
  },
  "language_info": {
   "file_extension": ".jl",
   "mimetype": "application/julia",
   "name": "julia",
   "version": "1.9.3"
  }
 },
 "nbformat": 4,
 "nbformat_minor": 4
}
