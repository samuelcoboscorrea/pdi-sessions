{
  "cells": [
    {
      "cell_type": "markdown",
      "metadata": {},
      "source": [
        "# Información\n",
        "\n",
        "Esta práctica está basada en una similar desarrollada por David Casillas en Matlab para la asignatura de Procesamiento de Señales."
      ]
    },
    {
      "cell_type": "code",
      "execution_count": null,
      "metadata": {},
      "outputs": [],
      "source": [
        "dum = 0;"
      ]
    },
    {
      "cell_type": "markdown",
      "metadata": {},
      "source": [
        "# Construcción del entorno"
      ]
    },
    {
      "cell_type": "code",
      "execution_count": null,
      "metadata": {},
      "outputs": [],
      "source": [
        "#import Pkg; #Pkg.add(\"Dummies\")#Los paquetes en Julia se suelen nombrar en plural\n",
        "import Pkg; Pkg.add(\"Images\")\n",
        "Pkg.add(\"TestImages\")\n",
        "Pkg.add(\"ImageView\")\n",
        "Pkg.add(\"QuartzImageIO\")#For some reason, this dependency for ImageIO.jl is not pulled with the rest\n",
        "using Images, TestImages\n",
        "using StatsBase\n",
        "using Plots"
      ]
    },
    {
      "cell_type": "markdown",
      "metadata": {},
      "source": [
        "Recuerda ajustar el directorio de trabajo para que existan las imagenes que van a ser usadas.\n",
        "\n",
        "# Solución\n",
        "\n",
        "## Recordatorio de prácticas pasadas y Preparación\n",
        "\n",
        "1. Carga la image \"board_recorte\" y muéstrala"
      ]
    },
    {
      "cell_type": "code",
      "execution_count": null,
      "metadata": {},
      "outputs": [],
      "source": [
        "img1 = load(\"Board_Recorte.tif\")"
      ]
    },
    {
      "cell_type": "markdown",
      "metadata": {},
      "source": [
        "2. Separa los canales  de color RGB y muestrelos en una imagen 1x3"
      ]
    },
    {
      "cell_type": "code",
      "execution_count": null,
      "metadata": {},
      "outputs": [],
      "source": [
        "img1_R = dum;\n",
        "img1_G = dum;\n",
        "img1_B = dum;\n",
        "mosaicview(img1_R, img1_G, img1_B, nrow=1)\n",
        "````\n",
        "\n",
        "\n",
        "3. Convierte la imagen RGB en HSI y represente cada canal en una imagen de 1x3\n",
        "```julia\n",
        "img1_HSI = HSI.(img1);\n",
        "img1_H = dum#Q: Cómo se obtienen los componentes, en general?\n",
        "img1_S = dum\n",
        "img1_I = dum\n",
        "mosaicview(img1_H, img1_S, img1_I)"
      ]
    },
    {
      "cell_type": "markdown",
      "metadata": {},
      "source": [
        "4. Halla el negativo del canal de saturación en \"img1_SNeg\" y muestra tanto \n",
        "el negativo como su histograma en una imagen"
      ]
    },
    {
      "cell_type": "code",
      "execution_count": null,
      "metadata": {},
      "outputs": [],
      "source": [
        "img1_SNeg = dum;\n",
        "hist1_SNeg = histogram(vec(reinterpret(UInt8, img1_SNeg)));\n",
        "plot!( plot(img1_SNeg), hist1_SNeg,\n",
        "    layout = (1,2),\n",
        "    legend=false, \n",
        "    reuse=false\n",
        ")"
      ]
    },
    {
      "cell_type": "markdown",
      "metadata": {},
      "source": [
        "5. Umbraliza \"img1_SNeg\" con un nivel obtenido por el método de Otsu, almacena el resultado en \"imgB\" y \n",
        "muéstrala."
      ]
    },
    {
      "cell_type": "code",
      "execution_count": null,
      "metadata": {},
      "outputs": [],
      "source": [
        "imgB = dum;"
      ]
    },
    {
      "cell_type": "markdown",
      "metadata": {},
      "source": [
        "6. Filtra la imagen imgB con un filtro de mediana 5x5 y compara el resultado."
      ]
    },
    {
      "cell_type": "code",
      "execution_count": null,
      "metadata": {},
      "outputs": [],
      "source": [
        "B = dum;\n",
        "mosaicview(img1,B,img1_SNeg,nrow=1)"
      ]
    },
    {
      "cell_type": "markdown",
      "metadata": {},
      "source": [
        "# Procesado Morfológico"
      ]
    },
    {
      "cell_type": "code",
      "execution_count": null,
      "metadata": {},
      "outputs": [],
      "source": [
        "Pkg.add(\"ImageMorphology\")\n",
        "Pkg.add(\"IndirectArrays\")\n",
        "using ImageMorphology\n",
        "using IndirectArrays"
      ]
    },
    {
      "cell_type": "markdown",
      "metadata": {},
      "source": [
        "La implementación de las operaciones morfológicas en este paquete convolucionan\n",
        "con un elemento estructurante predefinido que es, en 2D un elemento lleno de 1.0\n",
        "de dimensiones 3 x 3. \n",
        "\n",
        "Para hacer el filtrado convolutivo habría que ejecutar imfilter con otras operaciones\n",
        "1. Define un elemento estructurante  cuadrado *centrado* de tamaño 5x5 con la función \"strel\""
      ]
    },
    {
      "cell_type": "code",
      "execution_count": null,
      "metadata": {},
      "outputs": [],
      "source": [
        "# Structuring element\n",
        "se = strel(...)"
      ]
    },
    {
      "cell_type": "markdown",
      "metadata": {},
      "source": [
        "2. Aplique una apertura a la imagen filtrada anterior \"B\" con el elemento estructurante anterior \n",
        "y representa la imagen resultante con un título \"Opening\". "
      ]
    },
    {
      "cell_type": "code",
      "execution_count": null,
      "metadata": {},
      "outputs": [],
      "source": [
        "B_open = "
      ]
    },
    {
      "cell_type": "markdown",
      "metadata": {},
      "source": [
        "3. Lleva a cabo las operaciones de erosión, dilatación y cierre y representa los resultados lado a lado. "
      ]
    },
    {
      "cell_type": "code",
      "execution_count": null,
      "metadata": {},
      "outputs": [],
      "source": [
        "B_erode = \n",
        "B_dilate = \n",
        "B_closed = \n",
        "mosaicview(B, B_open, B_closed, B_eroded, B_dilated, nrow=2)"
      ]
    },
    {
      "cell_type": "markdown",
      "metadata": {},
      "source": [
        "4. Compruebe que el cierre y la apertura son secuencia de dilataciones y erosiones."
      ]
    },
    {
      "cell_type": "code",
      "execution_count": null,
      "metadata": {},
      "outputs": [],
      "source": [
        "B_open == dilate(erode(B, se), se)\n",
        "B_closed == erode(dilate(B, se), se)"
      ]
    },
    {
      "cell_type": "markdown",
      "metadata": {},
      "source": [
        "# Segmentación\n",
        "\n",
        "En esta parte de la práctica vamos a ver en detalle la segmentación \n",
        "\"por divisoria\" (ing. \"watershed\")."
      ]
    },
    {
      "cell_type": "code",
      "execution_count": null,
      "metadata": {},
      "outputs": [],
      "source": [
        "Pkg.add(\"ImageSegmentation\")\n",
        "using ImageSegmentation"
      ]
    },
    {
      "cell_type": "markdown",
      "metadata": {},
      "source": [
        "Para ello vamos a segmentar en granos un corte de roca. Una tarea similar\n",
        "sería segmentar un corte de tejido celular. \n",
        "\n",
        "1. Carga la imagen \"GrainSizeAnalysis.jpg\", pásala a tonos de gris, y visualizala."
      ]
    },
    {
      "cell_type": "code",
      "execution_count": null,
      "metadata": {},
      "outputs": [],
      "source": [
        "img2 = Gray.(load(\"GrainSizeAnalysis.jpg\"))"
      ]
    },
    {
      "cell_type": "markdown",
      "metadata": {},
      "source": [
        "3. Verifica si la imagen original se puede umbralizar de forma sencilla:"
      ]
    },
    {
      "cell_type": "code",
      "execution_count": null,
      "metadata": {},
      "outputs": [],
      "source": [
        "hist2 = dum"
      ]
    },
    {
      "cell_type": "markdown",
      "metadata": {},
      "source": [
        "Comenta el resultado.\n",
        "\n",
        "3. Usa el tipo de umbralización adecuado a la exploración anterior:"
      ]
    },
    {
      "cell_type": "code",
      "execution_count": null,
      "metadata": {},
      "outputs": [],
      "source": [
        "img2_bw = dum;\n",
        "Gray.(img2_bw)"
      ]
    },
    {
      "cell_type": "markdown",
      "metadata": {},
      "source": [
        "5. El proceso de la divisoria comienza encontrando puntos en blanco \n",
        "y sus distancias. Para eso se usa \n",
        "\"feature_transform\" y \"distance transform."
      ]
    },
    {
      "cell_type": "code",
      "execution_count": null,
      "metadata": {},
      "outputs": [],
      "source": [
        "bw_transform = feature_transform(img2_bw)\n",
        "dist = 1 .- distance_transform(bw_transform)"
      ]
    },
    {
      "cell_type": "markdown",
      "metadata": {},
      "source": [
        "6.Ahora decidimos qué pertenece a cada \"watershed\". Lee y comprende el siguiente algoritmo. SI es necesario, mira las primitivas \"watershed\" y \"label_map\". "
      ]
    },
    {
      "cell_type": "code",
      "execution_count": null,
      "metadata": {},
      "outputs": [],
      "source": [
        "dist_trans = dist .< 1\n",
        "markers = label_components(dist_trans)\n",
        "Gray.(markers/32.0)\n",
        "segments = watershed(dist, markers)\n",
        "labels = labels_map(segments)\n",
        "colored_labels = IndirectArray(labels, distinguishable_colors(maximum(labels)))\n",
        "masked_colored_labels = colored_labels .* (1 .- img2_bw)\n",
        "mosaic(img2, colored_labels, masked_colored_labels; nrow=1)"
      ]
    },
    {
      "cell_type": "markdown",
      "metadata": {},
      "source": [
        "Comenta el resultado. \n",
        "\n",
        "7. ¿Se te ocurre alguna idea para mejorar este resultado? exploración\n",
        "tu solución."
      ]
    },
    {
      "cell_type": "code",
      "execution_count": null,
      "metadata": {},
      "outputs": [],
      "source": [
        "#Construye tu solución siguiendo el ejemplo de arriba... \n",
        "mosaic(img2, my_colored_labels, my_masked_colored_labels; nrow=1)"
      ]
    },
    {
      "cell_type": "markdown",
      "metadata": {},
      "source": [
        "# Autoevaluación\n",
        "\n",
        "En este último apartado, registre qué competencias ha entrenado en\n",
        "esta práctica. "
      ]
    }
  ],
  "metadata": {
    "kernelspec": {
      "display_name": "Julia 1.9.3",
      "language": "julia",
      "name": "julia-1.9"
    },
    "language_info": {
      "file_extension": ".jl",
      "mimetype": "application/julia",
      "name": "julia",
      "version": "1.9.3"
    }
  },
  "nbformat": 4,
  "nbformat_minor": 2
}
